{
 "cells": [
  {
   "cell_type": "markdown",
   "id": "821c8332",
   "metadata": {},
   "source": [
    "## CA 1 - Data Visualization \n",
    "\n",
    "Juliana Brum 2023021\n",
    "\n",
    "Scenario:  \n",
    "  \n",
    "You have been retained by a retail company to analyse a dataset based on board games. This analysis will help determine the sales strategy for the company in their upcoming Winter season.   \n",
    "  \n",
    "Each answer MUST have a separate visualization that can be easily understood, visually represents the answer, and all data wrangling, analysis, and visualizations must generated using python.  \n",
    "   \n",
    "The companies CTO also requires you to rationalize all the decisions that you have made in your report.   \n",
    "  \n",
    "This rationalization MUST include your visualization design decisions, how you have engineered the data, feature selection and any other information that you deem relevant.   \n",
    "  \n",
    "Requirements  \n",
    "  \n",
    "You are required to use the dataset contained within the file “board_games.csv” and then answer the following questions:  \n",
    "  \n",
    "Part 1: (Column Names are denoted by quotation marks)  (30 marks)\n",
    "  \n",
    "•\tWhat are the top 5 “average rated” games?  \n",
    "•\tIs there a correlation between the “users_rated” and the “max_playtime”?  \n",
    "•\tWhat is the distribution of game categories? (You may not use a barchart)\n",
    "•\tDo older games (1992 and earlier) have a higher MEDIAN “average rating” than newer games (after 1992)?  \n",
    "•\tWhat are the 5 most common “mechanics” in the dataset?  \n",
    "  \n",
    "Part 2  (20 marks)\n",
    "  \n",
    "•\tYou must answer a “Statistically Relevant” question, OF YOUR OWN CHOOSING, using the dataset, that has not been asked in Part 1. This must have a logical basis that enhances the information and insight gained in the scenario.  \n",
    "\n",
    "\n",
    "\n",
    "Part3:  (50 marks)\n",
    "  \n",
    "You must explain, in detail,    \n",
    "•\twhy you chose a specific method to engineer the data and how you achieved this in python (Part 1/Part 2)  \n",
    "•\twhy you chose your specific visualizations to illustrate each answer (Part 1/Part 2)  \n",
    "•\twhat design decisions you made for each visualization (for example, but not only: colour, font, titles, size, text position, font size etc) (Part 1/Part 2)  \n",
    "•\twhat your rationale is for the visualization created in Part 2 and how your question enhances the information and insight gained in the scenario (Part 2)  \n"
   ]
  },
  {
   "cell_type": "code",
   "execution_count": null,
   "id": "59f078fd",
   "metadata": {},
   "outputs": [],
   "source": []
  }
 ],
 "metadata": {
  "kernelspec": {
   "display_name": "Python 3 (ipykernel)",
   "language": "python",
   "name": "python3"
  },
  "language_info": {
   "codemirror_mode": {
    "name": "ipython",
    "version": 3
   },
   "file_extension": ".py",
   "mimetype": "text/x-python",
   "name": "python",
   "nbconvert_exporter": "python",
   "pygments_lexer": "ipython3",
   "version": "3.11.4"
  }
 },
 "nbformat": 4,
 "nbformat_minor": 5
}
